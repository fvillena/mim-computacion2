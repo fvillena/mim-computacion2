{
 "cells": [
  {
   "cell_type": "markdown",
   "metadata": {},
   "source": [
    "# _Clustering_"
   ]
  },
  {
   "cell_type": "code",
   "execution_count": 3,
   "metadata": {},
   "outputs": [],
   "source": [
    "import numpy as np # Biblioteca para manejar datos vectoriales\n",
    "import pandas as pd # Biblioteca para manejo de datos\n",
    "import matplotlib.pyplot as plt # Visualización\n",
    "import sklearn.cluster # Algoritmos de clustering"
   ]
  },
  {
   "cell_type": "markdown",
   "metadata": {},
   "source": [
    "El _clustering_ o agrupamiento es la tarea de agrupar una serie de objetos de una manera que objetos del mismo grupo (_cluster_) son más similares entre sí que con los de otros grupos. Su objetivo principal es en la fase exploratoria de los datos y se clasifica dentro de los métodos no supervisados de aprendizaje de máquinas."
   ]
  },
  {
   "cell_type": "code",
   "execution_count": 4,
   "metadata": {},
   "outputs": [],
   "source": [
    "blobs = pd.read_csv(\"data/blobs.csv\") # Importamos un csv que contiene los datos a analizar."
   ]
  },
  {
   "cell_type": "code",
   "execution_count": 5,
   "metadata": {},
   "outputs": [
    {
     "data": {
      "text/html": [
       "<div>\n",
       "<style scoped>\n",
       "    .dataframe tbody tr th:only-of-type {\n",
       "        vertical-align: middle;\n",
       "    }\n",
       "\n",
       "    .dataframe tbody tr th {\n",
       "        vertical-align: top;\n",
       "    }\n",
       "\n",
       "    .dataframe thead th {\n",
       "        text-align: right;\n",
       "    }\n",
       "</style>\n",
       "<table border=\"1\" class=\"dataframe\">\n",
       "  <thead>\n",
       "    <tr style=\"text-align: right;\">\n",
       "      <th></th>\n",
       "      <th>x</th>\n",
       "      <th>y</th>\n",
       "    </tr>\n",
       "  </thead>\n",
       "  <tbody>\n",
       "    <tr>\n",
       "      <th>0</th>\n",
       "      <td>-4.503286</td>\n",
       "      <td>-5.138264</td>\n",
       "    </tr>\n",
       "    <tr>\n",
       "      <th>1</th>\n",
       "      <td>-4.352311</td>\n",
       "      <td>-3.476970</td>\n",
       "    </tr>\n",
       "    <tr>\n",
       "      <th>2</th>\n",
       "      <td>-5.234153</td>\n",
       "      <td>-5.234137</td>\n",
       "    </tr>\n",
       "    <tr>\n",
       "      <th>3</th>\n",
       "      <td>-3.420787</td>\n",
       "      <td>-4.232565</td>\n",
       "    </tr>\n",
       "    <tr>\n",
       "      <th>4</th>\n",
       "      <td>-5.469474</td>\n",
       "      <td>-4.457440</td>\n",
       "    </tr>\n",
       "  </tbody>\n",
       "</table>\n",
       "</div>"
      ],
      "text/plain": [
       "          x         y\n",
       "0 -4.503286 -5.138264\n",
       "1 -4.352311 -3.476970\n",
       "2 -5.234153 -5.234137\n",
       "3 -3.420787 -4.232565\n",
       "4 -5.469474 -4.457440"
      ]
     },
     "execution_count": 5,
     "metadata": {},
     "output_type": "execute_result"
    }
   ],
   "source": [
    "blobs.head() # Verificamos qué podemos encontrar en el conjunto de datos."
   ]
  },
  {
   "cell_type": "code",
   "execution_count": 6,
   "metadata": {},
   "outputs": [
    {
     "data": {
      "text/plain": [
       "<matplotlib.collections.PathCollection at 0x1e6cf057388>"
      ]
     },
     "execution_count": 6,
     "metadata": {},
     "output_type": "execute_result"
    },
    {
     "data": {
      "image/png": "[encoded data removed]",
      "text/plain": [
       "<Figure size 432x288 with 1 Axes>"
      ]
     },
     "metadata": {
      "needs_background": "light"
     },
     "output_type": "display_data"
    }
   ],
   "source": [
    "plt.scatter(blobs.x, blobs.y) # Exploramos la distribución que tienen nuestros datos"
   ]
  },
  {
   "cell_type": "markdown",
   "metadata": {},
   "source": [
    "Intuitivamente podemos desprender que existe cierto agrupamiento de los datos. Uno de los algoritmos para realizar _clustering_ es el k-means que se encuentra implementado en la clase sklearn.cluster.KMeans. Procederemos a realizar un agrupamiento utilizando este algoritmo."
   ]
  },
  {
   "cell_type": "code",
   "execution_count": 7,
   "metadata": {},
   "outputs": [
    {
     "data": {
      "text/plain": [
       "KMeans(n_clusters=2)"
      ]
     },
     "execution_count": 7,
     "metadata": {},
     "output_type": "execute_result"
    }
   ],
   "source": [
    "km = sklearn.cluster.KMeans(n_clusters=2) # Instanciamos el algoritmo de k-means\n",
    "km.fit(blobs) # Ajustamos el modelo de k-means"
   ]
  },
  {
   "cell_type": "code",
   "execution_count": 8,
   "metadata": {},
   "outputs": [
    {
     "data": {
      "text/plain": [
       "array([1, 1, 1, ..., 0, 0, 0])"
      ]
     },
     "execution_count": 8,
     "metadata": {},
     "output_type": "execute_result"
    }
   ],
   "source": [
    "km.labels_ # Grupos a los cuales asoció el modelo a cada una de las instancias del conjunto de datos"
   ]
  },
  {
   "cell_type": "code",
   "execution_count": 9,
   "metadata": {},
   "outputs": [
    {
     "data": {
      "text/plain": [
       "<matplotlib.collections.PathCollection at 0x1e6ccc8ae48>"
      ]
     },
     "execution_count": 9,
     "metadata": {},
     "output_type": "execute_result"
    },
    {
     "data": {
      "image/png": "[encoded data removed]",
      "text/plain": [
       "<Figure size 432x288 with 1 Axes>"
      ]
     },
     "metadata": {
      "needs_background": "light"
     },
     "output_type": "display_data"
    }
   ],
   "source": [
    "plt.scatter(blobs.x, blobs.y, c = km.labels_) # Verificamos gráficamente el agrupamiento"
   ]
  },
  {
   "cell_type": "markdown",
   "metadata": {},
   "source": [
    "¿Qué pasó?, es correcto el número de grupos utilizado en el modelo. ¿Cómo podemos evaluar de una manera más sistemática el correcto número de grupos?.\n",
    "\n",
    "Existe una métrica llamada inertia que mide la dispersión promedio de los grupos detectados por el método. Nosotros quisieramos que los grupos sean lo menos dispersos posibles sin generar más grupos de los que naturalmente existen en el conjunto de datos. Para poder valorar estos compromisos podríamos calcular la inertia de cada agrupamiento al variar el número de grupos a detectar."
   ]
  },
  {
   "attachments": {
    "image.png": {
     "image/png": "[encoded data removed]"
    }
   },
   "cell_type": "markdown",
   "metadata": {},
   "source": [
    "Algo como esto:\n",
    "\n",
    "![image.png](attachment:image.png)"
   ]
  },
  {
   "cell_type": "markdown",
   "metadata": {},
   "source": [
    "Aquí puedes encontrar la documentación de la implementación de sklearn de k-means: https://scikit-learn.org/stable/modules/generated/sklearn.cluster.KMeans.html#sklearn.cluster.KMeans"
   ]
  },
  {
   "cell_type": "code",
   "execution_count": 10,
   "metadata": {},
   "outputs": [],
   "source": [
    "# TODO: Programa un ciclo para evaluar el mejor número de clusters y grafica los resultados.\n",
    "\n",
    "for n_clusters in range(5):\n",
    "    pass"
   ]
  },
  {
   "cell_type": "markdown",
   "metadata": {},
   "source": [
    "Importamos otro conjunto de datos y probamos el mismo algoritmo de agrupamiento que hicimos anteriormente."
   ]
  },
  {
   "cell_type": "code",
   "execution_count": 9,
   "metadata": {},
   "outputs": [],
   "source": [
    "moons = pd.read_csv(\"data/twomoons.csv\")"
   ]
  },
  {
   "cell_type": "code",
   "execution_count": 10,
   "metadata": {},
   "outputs": [
    {
     "data": {
      "text/html": [
       "<div>\n",
       "<style scoped>\n",
       "    .dataframe tbody tr th:only-of-type {\n",
       "        vertical-align: middle;\n",
       "    }\n",
       "\n",
       "    .dataframe tbody tr th {\n",
       "        vertical-align: top;\n",
       "    }\n",
       "\n",
       "    .dataframe thead th {\n",
       "        text-align: right;\n",
       "    }\n",
       "</style>\n",
       "<table border=\"1\" class=\"dataframe\">\n",
       "  <thead>\n",
       "    <tr style=\"text-align: right;\">\n",
       "      <th></th>\n",
       "      <th>Unnamed: 0</th>\n",
       "      <th>x</th>\n",
       "      <th>y</th>\n",
       "    </tr>\n",
       "  </thead>\n",
       "  <tbody>\n",
       "    <tr>\n",
       "      <th>0</th>\n",
       "      <td>0</td>\n",
       "      <td>1.725508</td>\n",
       "      <td>-0.043207</td>\n",
       "    </tr>\n",
       "    <tr>\n",
       "      <th>1</th>\n",
       "      <td>1</td>\n",
       "      <td>-0.826517</td>\n",
       "      <td>0.559084</td>\n",
       "    </tr>\n",
       "    <tr>\n",
       "      <th>2</th>\n",
       "      <td>2</td>\n",
       "      <td>1.964777</td>\n",
       "      <td>0.217817</td>\n",
       "    </tr>\n",
       "    <tr>\n",
       "      <th>3</th>\n",
       "      <td>3</td>\n",
       "      <td>1.453529</td>\n",
       "      <td>-0.398344</td>\n",
       "    </tr>\n",
       "    <tr>\n",
       "      <th>4</th>\n",
       "      <td>4</td>\n",
       "      <td>0.030248</td>\n",
       "      <td>0.465012</td>\n",
       "    </tr>\n",
       "  </tbody>\n",
       "</table>\n",
       "</div>"
      ],
      "text/plain": [
       "   Unnamed: 0         x         y\n",
       "0           0  1.725508 -0.043207\n",
       "1           1 -0.826517  0.559084\n",
       "2           2  1.964777  0.217817\n",
       "3           3  1.453529 -0.398344\n",
       "4           4  0.030248  0.465012"
      ]
     },
     "execution_count": 10,
     "metadata": {},
     "output_type": "execute_result"
    }
   ],
   "source": [
    "moons.head()"
   ]
  },
  {
   "cell_type": "code",
   "execution_count": 11,
   "metadata": {},
   "outputs": [
    {
     "data": {
      "text/plain": [
       "<matplotlib.collections.PathCollection at 0x25973ade128>"
      ]
     },
     "execution_count": 11,
     "metadata": {},
     "output_type": "execute_result"
    },
    {
     "data": {
      "image/png": "[encoded data removed]",
      "text/plain": [
       "<Figure size 432x288 with 1 Axes>"
      ]
     },
     "metadata": {
      "needs_background": "light"
     },
     "output_type": "display_data"
    }
   ],
   "source": [
    "plt.scatter(moons.x, moons.y)"
   ]
  },
  {
   "cell_type": "code",
   "execution_count": 12,
   "metadata": {},
   "outputs": [
    {
     "data": {
      "text/plain": [
       "KMeans(algorithm='auto', copy_x=True, init='k-means++', max_iter=300,\n",
       "       n_clusters=2, n_init=10, n_jobs=None, precompute_distances='auto',\n",
       "       random_state=None, tol=0.0001, verbose=0)"
      ]
     },
     "execution_count": 12,
     "metadata": {},
     "output_type": "execute_result"
    }
   ],
   "source": [
    "km = sklearn.cluster.KMeans(n_clusters=2)\n",
    "km.fit(moons)"
   ]
  },
  {
   "cell_type": "code",
   "execution_count": 13,
   "metadata": {},
   "outputs": [
    {
     "data": {
      "text/plain": [
       "array([0, 0, 0, ..., 1, 1, 1])"
      ]
     },
     "execution_count": 13,
     "metadata": {},
     "output_type": "execute_result"
    }
   ],
   "source": [
    "km.labels_"
   ]
  },
  {
   "cell_type": "code",
   "execution_count": 14,
   "metadata": {},
   "outputs": [
    {
     "data": {
      "text/plain": [
       "<matplotlib.collections.PathCollection at 0x25973a7af98>"
      ]
     },
     "execution_count": 14,
     "metadata": {},
     "output_type": "execute_result"
    },
    {
     "data": {
      "image/png": "[encoded data removed]",
      "text/plain": [
       "<Figure size 432x288 with 1 Axes>"
      ]
     },
     "metadata": {
      "needs_background": "light"
     },
     "output_type": "display_data"
    }
   ],
   "source": [
    "plt.scatter(moons.x, moons.y, c = km.labels_)"
   ]
  },
  {
   "cell_type": "markdown",
   "metadata": {},
   "source": [
    "¿El agrupamiento realizado es el más correcto?. Entrena otro modelo de clustering con el algoritmo que creas es el más correcto.\n",
    "\n",
    "Acá están listados los algoritmos de agrupamiento que contiene sklearn: https://scikit-learn.org/stable/modules/classes.html#module-sklearn.cluster"
   ]
  },
  {
   "cell_type": "code",
   "execution_count": 15,
   "metadata": {},
   "outputs": [],
   "source": [
    "# TODO: Entrenamiento, ajuste y visualización de otro método de clustering.\n",
    "# HINT:\n",
    "ac = sklearn.cluster.AgglomerativeClustering(linkage='average')"
   ]
  },
  {
   "cell_type": "markdown",
   "metadata": {},
   "source": [
    "## Datos de microarreglo"
   ]
  },
  {
   "cell_type": "markdown",
   "metadata": {},
   "source": [
    "Implementa el algoritmo de agrupamiento más correcto para analizar los siguientes datos de microarreglo. Agrupa tanto por gen como por linea celular e interpreta los resultados.\n",
    "\n",
    "P"
   ]
  },
  {
   "cell_type": "code",
   "execution_count": 16,
   "metadata": {},
   "outputs": [],
   "source": [
    "microarray = pd.read_csv(\"data/gene_expressions.tsv\", sep=\"\\t\", index_col=\"gene\")"
   ]
  },
  {
   "cell_type": "code",
   "execution_count": 17,
   "metadata": {},
   "outputs": [
    {
     "data": {
      "text/html": [
       "<div>\n",
       "<style scoped>\n",
       "    .dataframe tbody tr th:only-of-type {\n",
       "        vertical-align: middle;\n",
       "    }\n",
       "\n",
       "    .dataframe tbody tr th {\n",
       "        vertical-align: top;\n",
       "    }\n",
       "\n",
       "    .dataframe thead th {\n",
       "        text-align: right;\n",
       "    }\n",
       "</style>\n",
       "<table border=\"1\" class=\"dataframe\">\n",
       "  <thead>\n",
       "    <tr style=\"text-align: right;\">\n",
       "      <th></th>\n",
       "      <th>786-0</th>\n",
       "      <th>A498</th>\n",
       "      <th>A549</th>\n",
       "      <th>ACHN</th>\n",
       "      <th>BT-549</th>\n",
       "      <th>CAKI-1</th>\n",
       "      <th>CCRF-CEM</th>\n",
       "      <th>COLO205</th>\n",
       "      <th>DU-145</th>\n",
       "      <th>EKVX</th>\n",
       "      <th>...</th>\n",
       "      <th>SNB-19</th>\n",
       "      <th>SNB-75</th>\n",
       "      <th>SR</th>\n",
       "      <th>SW-620</th>\n",
       "      <th>T-47D</th>\n",
       "      <th>TK-10</th>\n",
       "      <th>U251</th>\n",
       "      <th>UACC-257</th>\n",
       "      <th>UACC-62</th>\n",
       "      <th>UO-31</th>\n",
       "    </tr>\n",
       "    <tr>\n",
       "      <th>gene</th>\n",
       "      <th></th>\n",
       "      <th></th>\n",
       "      <th></th>\n",
       "      <th></th>\n",
       "      <th></th>\n",
       "      <th></th>\n",
       "      <th></th>\n",
       "      <th></th>\n",
       "      <th></th>\n",
       "      <th></th>\n",
       "      <th></th>\n",
       "      <th></th>\n",
       "      <th></th>\n",
       "      <th></th>\n",
       "      <th></th>\n",
       "      <th></th>\n",
       "      <th></th>\n",
       "      <th></th>\n",
       "      <th></th>\n",
       "      <th></th>\n",
       "      <th></th>\n",
       "    </tr>\n",
       "  </thead>\n",
       "  <tbody>\n",
       "    <tr>\n",
       "      <th>A1BG</th>\n",
       "      <td>-1.025477</td>\n",
       "      <td>-0.925477</td>\n",
       "      <td>0.274523</td>\n",
       "      <td>-0.875477</td>\n",
       "      <td>2.484523</td>\n",
       "      <td>1.244523</td>\n",
       "      <td>1.914523</td>\n",
       "      <td>-1.025477</td>\n",
       "      <td>0.584523</td>\n",
       "      <td>0.094523</td>\n",
       "      <td>...</td>\n",
       "      <td>0.494523</td>\n",
       "      <td>-0.705477</td>\n",
       "      <td>0.914523</td>\n",
       "      <td>-0.885477</td>\n",
       "      <td>1.524523</td>\n",
       "      <td>-0.995477</td>\n",
       "      <td>0.314523</td>\n",
       "      <td>1.774523</td>\n",
       "      <td>2.104523</td>\n",
       "      <td>-0.665477</td>\n",
       "    </tr>\n",
       "    <tr>\n",
       "      <th>A2M</th>\n",
       "      <td>-1.409323</td>\n",
       "      <td>-1.409323</td>\n",
       "      <td>-1.409323</td>\n",
       "      <td>-1.409323</td>\n",
       "      <td>-1.409323</td>\n",
       "      <td>-1.399323</td>\n",
       "      <td>-1.299323</td>\n",
       "      <td>-1.409323</td>\n",
       "      <td>-1.399323</td>\n",
       "      <td>0.100677</td>\n",
       "      <td>...</td>\n",
       "      <td>-0.889323</td>\n",
       "      <td>-0.729323</td>\n",
       "      <td>-1.409323</td>\n",
       "      <td>-1.229323</td>\n",
       "      <td>-1.399323</td>\n",
       "      <td>-1.399323</td>\n",
       "      <td>-1.369323</td>\n",
       "      <td>5.630677</td>\n",
       "      <td>3.280677</td>\n",
       "      <td>-1.399323</td>\n",
       "    </tr>\n",
       "    <tr>\n",
       "      <th>A2ML1</th>\n",
       "      <td>-1.696062</td>\n",
       "      <td>-1.686062</td>\n",
       "      <td>-1.686062</td>\n",
       "      <td>-1.686062</td>\n",
       "      <td>-1.696062</td>\n",
       "      <td>-1.696062</td>\n",
       "      <td>-1.696062</td>\n",
       "      <td>-1.696062</td>\n",
       "      <td>-1.696062</td>\n",
       "      <td>-1.586062</td>\n",
       "      <td>...</td>\n",
       "      <td>-1.696062</td>\n",
       "      <td>-1.696062</td>\n",
       "      <td>-1.696062</td>\n",
       "      <td>-1.696062</td>\n",
       "      <td>-1.636062</td>\n",
       "      <td>-1.696062</td>\n",
       "      <td>-1.696062</td>\n",
       "      <td>-1.686062</td>\n",
       "      <td>-1.586062</td>\n",
       "      <td>-1.696062</td>\n",
       "    </tr>\n",
       "    <tr>\n",
       "      <th>A4GALT</th>\n",
       "      <td>1.978677</td>\n",
       "      <td>1.588677</td>\n",
       "      <td>0.908677</td>\n",
       "      <td>0.348677</td>\n",
       "      <td>1.098677</td>\n",
       "      <td>1.488677</td>\n",
       "      <td>-1.791323</td>\n",
       "      <td>-1.041323</td>\n",
       "      <td>-0.601323</td>\n",
       "      <td>1.498677</td>\n",
       "      <td>...</td>\n",
       "      <td>0.008677</td>\n",
       "      <td>2.308677</td>\n",
       "      <td>-2.241323</td>\n",
       "      <td>-1.101323</td>\n",
       "      <td>0.668677</td>\n",
       "      <td>-0.181323</td>\n",
       "      <td>-0.131323</td>\n",
       "      <td>-2.241323</td>\n",
       "      <td>-1.581323</td>\n",
       "      <td>1.368677</td>\n",
       "    </tr>\n",
       "    <tr>\n",
       "      <th>AAAS</th>\n",
       "      <td>0.878385</td>\n",
       "      <td>0.178385</td>\n",
       "      <td>1.658385</td>\n",
       "      <td>-0.291615</td>\n",
       "      <td>-0.011615</td>\n",
       "      <td>0.568385</td>\n",
       "      <td>1.518385</td>\n",
       "      <td>0.148385</td>\n",
       "      <td>0.158385</td>\n",
       "      <td>1.038385</td>\n",
       "      <td>...</td>\n",
       "      <td>-0.041615</td>\n",
       "      <td>0.638385</td>\n",
       "      <td>0.608385</td>\n",
       "      <td>1.968385</td>\n",
       "      <td>1.218385</td>\n",
       "      <td>0.098385</td>\n",
       "      <td>0.238385</td>\n",
       "      <td>0.778385</td>\n",
       "      <td>0.558385</td>\n",
       "      <td>0.508385</td>\n",
       "    </tr>\n",
       "  </tbody>\n",
       "</table>\n",
       "<p>5 rows × 60 columns</p>\n",
       "</div>"
      ],
      "text/plain": [
       "           786-0      A498      A549      ACHN    BT-549    CAKI-1  CCRF-CEM  \\\n",
       "gene                                                                           \n",
       "A1BG   -1.025477 -0.925477  0.274523 -0.875477  2.484523  1.244523  1.914523   \n",
       "A2M    -1.409323 -1.409323 -1.409323 -1.409323 -1.409323 -1.399323 -1.299323   \n",
       "A2ML1  -1.696062 -1.686062 -1.686062 -1.686062 -1.696062 -1.696062 -1.696062   \n",
       "A4GALT  1.978677  1.588677  0.908677  0.348677  1.098677  1.488677 -1.791323   \n",
       "AAAS    0.878385  0.178385  1.658385 -0.291615 -0.011615  0.568385  1.518385   \n",
       "\n",
       "         COLO205    DU-145      EKVX    ...       SNB-19    SNB-75        SR  \\\n",
       "gene                                    ...                                    \n",
       "A1BG   -1.025477  0.584523  0.094523    ...     0.494523 -0.705477  0.914523   \n",
       "A2M    -1.409323 -1.399323  0.100677    ...    -0.889323 -0.729323 -1.409323   \n",
       "A2ML1  -1.696062 -1.696062 -1.586062    ...    -1.696062 -1.696062 -1.696062   \n",
       "A4GALT -1.041323 -0.601323  1.498677    ...     0.008677  2.308677 -2.241323   \n",
       "AAAS    0.148385  0.158385  1.038385    ...    -0.041615  0.638385  0.608385   \n",
       "\n",
       "          SW-620     T-47D     TK-10      U251  UACC-257   UACC-62     UO-31  \n",
       "gene                                                                          \n",
       "A1BG   -0.885477  1.524523 -0.995477  0.314523  1.774523  2.104523 -0.665477  \n",
       "A2M    -1.229323 -1.399323 -1.399323 -1.369323  5.630677  3.280677 -1.399323  \n",
       "A2ML1  -1.696062 -1.636062 -1.696062 -1.696062 -1.686062 -1.586062 -1.696062  \n",
       "A4GALT -1.101323  0.668677 -0.181323 -0.131323 -2.241323 -1.581323  1.368677  \n",
       "AAAS    1.968385  1.218385  0.098385  0.238385  0.778385  0.558385  0.508385  \n",
       "\n",
       "[5 rows x 60 columns]"
      ]
     },
     "execution_count": 17,
     "metadata": {},
     "output_type": "execute_result"
    }
   ],
   "source": [
    "microarray.head()"
   ]
  },
  {
   "cell_type": "code",
   "execution_count": 18,
   "metadata": {},
   "outputs": [],
   "source": [
    "# TODO: Entrenamiento, ajuste y visualización de un modelo de clustering para microarreglo."
   ]
  },
  {
   "cell_type": "code",
   "execution_count": null,
   "metadata": {},
   "outputs": [],
   "source": []
  }
 ],
 "metadata": {
  "kernelspec": {
   "display_name": "Python 3 (ipykernel)",
   "language": "python",
   "name": "python3"
  },
  "language_info": {
   "codemirror_mode": {
    "name": "ipython",
    "version": 3
   },
   "file_extension": ".py",
   "mimetype": "text/x-python",
   "name": "python",
   "nbconvert_exporter": "python",
   "pygments_lexer": "ipython3",
   "version": "3.7.6"
  }
 },
 "nbformat": 4,
 "nbformat_minor": 2
}
